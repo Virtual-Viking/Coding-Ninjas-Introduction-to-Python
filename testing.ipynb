{
 "cells": [
  {
   "cell_type": "code",
   "execution_count": 9,
   "metadata": {},
   "outputs": [
    {
     "name": "stdout",
     "output_type": "stream",
     "text": [
      "5\n"
     ]
    }
   ],
   "source": [
    "n = 5\n",
    "\n",
    "n = abs(n)\n",
    "\n",
    "print(n)"
   ]
  },
  {
   "cell_type": "code",
   "execution_count": 13,
   "metadata": {},
   "outputs": [
    {
     "name": "stdout",
     "output_type": "stream",
     "text": [
      "[[1, 3, 5], [2, 4, 6]]\n"
     ]
    }
   ],
   "source": [
    "a = [[1,2],[3,4],[5,6]]\n",
    "\n",
    "b = [[0 for _ in range(len(a))]for _ in range(len(a[0]))]\n",
    "\n",
    "for i in range(len(a)):\n",
    "    for j in range(len(a[0])):\n",
    "        b[j][i] = a[i][j]\n",
    "print(b)"
   ]
  },
  {
   "cell_type": "code",
   "execution_count": 3,
   "metadata": {},
   "outputs": [
    {
     "name": "stdout",
     "output_type": "stream",
     "text": [
      "2 15 2\n"
     ]
    }
   ],
   "source": [
    "s = 'jksdfhkj kjsdf aadd'\n",
    "\n",
    "vowels = {\"a\",\"e\",\"i\",\"o\",\"u\",\"A\",\"E\",\"I\",\"O\",\"U\"}\n",
    "v = 0\n",
    "sp = 0\n",
    "c = 0\n",
    "for i in s:\n",
    "    if i in vowels:\n",
    "        v+=1\n",
    "    elif i == \" \":\n",
    "        sp+=1\n",
    "    else:\n",
    "        c+=1\n",
    "a = [v,c,sp]\n",
    "print(*a)"
   ]
  },
  {
   "cell_type": "markdown",
   "metadata": {},
   "source": [
    "You are given a grid of binary numbers, ‘1’ and ‘0’ where ‘0’ means land and ‘1’ means water. A closed island is a group of ‘0’s surrounded on the 4 sides by water, i.e., ‘1’. Your task is to find the number of islands in the given grid."
   ]
  },
  {
   "cell_type": "code",
   "execution_count": 5,
   "metadata": {},
   "outputs": [
    {
     "name": "stdout",
     "output_type": "stream",
     "text": [
      "<class 'dict'>\n"
     ]
    }
   ],
   "source": [
    "a = dict()\n",
    "print(type(a))"
   ]
  },
  {
   "cell_type": "code",
   "execution_count": null,
   "metadata": {},
   "outputs": [],
   "source": []
  },
  {
   "cell_type": "code",
   "execution_count": 13,
   "metadata": {},
   "outputs": [
    {
     "name": "stdout",
     "output_type": "stream",
     "text": [
      "dict_values([7000, 200, 300, 400])\n"
     ]
    }
   ],
   "source": [
    "cart = {'a' : 100,'b' : 200,'c' : 300,'d' : 400}\n",
    "\n",
    "for i in cart:\n",
    "    if cart[i] == 100:\n",
    "        cart[i] = 7000\n",
    "\n",
    "print(cart.values())\n",
    "\n"
   ]
  },
  {
   "cell_type": "code",
   "execution_count": 2,
   "metadata": {},
   "outputs": [
    {
     "name": "stdout",
     "output_type": "stream",
     "text": [
      "a b c "
     ]
    }
   ],
   "source": [
    "d= {'a': 1, 'b': 2, 'c': 3}\n",
    "for key in d:\n",
    "    print(key, end=\" \")"
   ]
  },
  {
   "cell_type": "markdown",
   "metadata": {},
   "source": [
    "Find all duplicate characters of the string"
   ]
  },
  {
   "cell_type": "code",
   "execution_count": 15,
   "metadata": {},
   "outputs": [
    {
     "name": "stdout",
     "output_type": "stream",
     "text": [
      "o i n "
     ]
    }
   ],
   "source": [
    "s = \"combination\"\n",
    "a = dict()\n",
    "for i in s:\n",
    "    if i not in a:\n",
    "        a[i] = 1\n",
    "    else:\n",
    "        a[i]+=1\n",
    "    pass\n",
    "\n",
    "for (i,j) in a.items():\n",
    "    if j > 1:\n",
    "        print(i,end = \" \")\n",
    "\n",
    "        "
   ]
  },
  {
   "cell_type": "code",
   "execution_count": 4,
   "metadata": {},
   "outputs": [
    {
     "name": "stdout",
     "output_type": "stream",
     "text": [
      "['cosing', 'niunjas', 'sdkfmksd', 'sdflksdfj', 'sdflklnsdnf', 'sdf', 'sdf', 'sdmf', 's', 'sdkl;sdkf', '']\n"
     ]
    }
   ],
   "source": [
    "a = \"cosing niunjas sdkfmksd sdflksdfj sdflklnsdnf sdf sdf sdmf s sdkl;sdkf \"\n",
    "a = a.split(\" \")\n",
    "print(a)\n"
   ]
  },
  {
   "cell_type": "code",
   "execution_count": 9,
   "metadata": {},
   "outputs": [
    {
     "name": "stdout",
     "output_type": "stream",
     "text": [
      "b\n"
     ]
    }
   ],
   "source": [
    "li1 = {\"a\":1,\"b\":2}\n",
    "li2 = {\"a\":1,\"b\":2}\n",
    "print(max(li1, key = li1.get))"
   ]
  },
  {
   "cell_type": "code",
   "execution_count": 8,
   "metadata": {},
   "outputs": [
    {
     "name": "stdout",
     "output_type": "stream",
     "text": [
      "0\n"
     ]
    }
   ],
   "source": [
    "a = 1\n",
    "b = int()\n",
    "print(b)"
   ]
  },
  {
   "cell_type": "code",
   "execution_count": 10,
   "metadata": {},
   "outputs": [
    {
     "name": "stdout",
     "output_type": "stream",
     "text": [
      "{1, 2, 3, 4, 5}\n"
     ]
    }
   ],
   "source": [
    "a = {1,2,3,3,4,4,4,4,4,5,5,5,5}\n",
    "print(a)"
   ]
  },
  {
   "cell_type": "code",
   "execution_count": null,
   "metadata": {},
   "outputs": [],
   "source": []
  }
 ],
 "metadata": {
  "kernelspec": {
   "display_name": "Python 3",
   "language": "python",
   "name": "python3"
  },
  "language_info": {
   "codemirror_mode": {
    "name": "ipython",
    "version": 3
   },
   "file_extension": ".py",
   "mimetype": "text/x-python",
   "name": "python",
   "nbconvert_exporter": "python",
   "pygments_lexer": "ipython3",
   "version": "3.11.9"
  }
 },
 "nbformat": 4,
 "nbformat_minor": 2
}
