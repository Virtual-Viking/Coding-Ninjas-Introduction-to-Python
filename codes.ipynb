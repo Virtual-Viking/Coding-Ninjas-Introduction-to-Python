{
 "cells": [
  {
   "cell_type": "code",
   "id": "initial_id",
   "metadata": {
    "collapsed": true,
    "ExecuteTime": {
     "end_time": "2024-08-26T04:02:34.618879Z",
     "start_time": "2024-08-26T04:02:34.608851Z"
    }
   },
   "source": [
    "\n",
    "from sys import stdin\n",
    "\n",
    "def findTriplet(arr, n, x) :\n",
    "    #Your code goes here\n",
    "    #return your answer\n",
    "    counter = 0\n",
    "    for i in range(0,n-3):\n",
    "        for j in range(i+1,n-2):\n",
    "            for k in range(j+1,n-1):\n",
    "                if arr[i]+arr[j]+arr[k] == x:\n",
    "                    counter += 1\n",
    "                    \n",
    "    return counter\n",
    "\n",
    "\n",
    "\n",
    "\n",
    "#Taking Input Using Fast I/O\n",
    "def takeInput() :\n",
    "    n = int(stdin.readline().strip())\n",
    "\n",
    "    if n == 0 :\n",
    "        return list(), 0\n",
    "\n",
    "    arr = list(map(int, stdin.readline().strip().split(\" \")))\n",
    "    return arr, n\n",
    "\n",
    "\n",
    "\n",
    "#main\n",
    "t = int(stdin.readline().strip())\n",
    "\n",
    "while t > 0 :\n",
    "\n",
    "    arr, n = takeInput()\n",
    "    x = int(stdin.readline().strip())\n",
    "    print(findTriplet(arr, n, x))\n",
    "    t -= 1"
   ],
   "outputs": [
    {
     "ename": "ValueError",
     "evalue": "invalid literal for int() with base 10: ''",
     "output_type": "error",
     "traceback": [
      "\u001B[1;31m---------------------------------------------------------------------------\u001B[0m",
      "\u001B[1;31mValueError\u001B[0m                                Traceback (most recent call last)",
      "Cell \u001B[1;32mIn[4], line 31\u001B[0m\n\u001B[0;32m     26\u001B[0m     \u001B[38;5;28;01mreturn\u001B[39;00m arr, n\n\u001B[0;32m     30\u001B[0m \u001B[38;5;66;03m#main\u001B[39;00m\n\u001B[1;32m---> 31\u001B[0m t \u001B[38;5;241m=\u001B[39m \u001B[38;5;28;43mint\u001B[39;49m\u001B[43m(\u001B[49m\u001B[43mstdin\u001B[49m\u001B[38;5;241;43m.\u001B[39;49m\u001B[43mreadline\u001B[49m\u001B[43m(\u001B[49m\u001B[43m)\u001B[49m\u001B[38;5;241;43m.\u001B[39;49m\u001B[43mstrip\u001B[49m\u001B[43m(\u001B[49m\u001B[43m)\u001B[49m\u001B[43m)\u001B[49m\n\u001B[0;32m     33\u001B[0m \u001B[38;5;28;01mwhile\u001B[39;00m t \u001B[38;5;241m>\u001B[39m \u001B[38;5;241m0\u001B[39m :\n\u001B[0;32m     35\u001B[0m     arr, n \u001B[38;5;241m=\u001B[39m takeInput()\n",
      "\u001B[1;31mValueError\u001B[0m: invalid literal for int() with base 10: ''"
     ]
    }
   ],
   "execution_count": 4
  }
 ],
 "metadata": {
  "kernelspec": {
   "display_name": "Python 3",
   "language": "python",
   "name": "python3"
  },
  "language_info": {
   "codemirror_mode": {
    "name": "ipython",
    "version": 2
   },
   "file_extension": ".py",
   "mimetype": "text/x-python",
   "name": "python",
   "nbconvert_exporter": "python",
   "pygments_lexer": "ipython2",
   "version": "2.7.6"
  }
 },
 "nbformat": 4,
 "nbformat_minor": 5
}
