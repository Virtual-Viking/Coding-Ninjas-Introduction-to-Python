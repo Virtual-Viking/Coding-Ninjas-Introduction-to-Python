{
 "cells": [
  {
   "cell_type": "markdown",
   "metadata": {},
   "source": [
    "Creating 2D Arrays/Lists"
   ]
  },
  {
   "cell_type": "code",
   "execution_count": 1,
   "metadata": {},
   "outputs": [
    {
     "name": "stdout",
     "output_type": "stream",
     "text": [
      "[[0, 0, 0], [0, 0, 0], [0, 0, 0], [0, 0, 0]]\n"
     ]
    }
   ],
   "source": [
    "#creating a  matrix of size n x m\n",
    "\n",
    "n,m = 4,3\n",
    "matrix = [[0 for _ in range(m)] for _ in range(n)]\n",
    "\n",
    "print(matrix)"
   ]
  },
  {
   "cell_type": "markdown",
   "metadata": {},
   "source": [
    "Undserstanding the loop syntax witihin a list"
   ]
  },
  {
   "cell_type": "code",
   "execution_count": 6,
   "metadata": {},
   "outputs": [
    {
     "name": "stdout",
     "output_type": "stream",
     "text": [
      "[0, 0, 0, 0]\n"
     ]
    }
   ],
   "source": [
    "a = [0 for _ in range(4)]\n",
    "print(a)"
   ]
  },
  {
   "cell_type": "markdown",
   "metadata": {},
   "source": [
    "Code to find Row with maximum '1'"
   ]
  },
  {
   "cell_type": "code",
   "execution_count": 9,
   "metadata": {},
   "outputs": [
    {
     "name": "stdout",
     "output_type": "stream",
     "text": [
      "biggest row is  2  with  3  number of ones.\n"
     ]
    }
   ],
   "source": [
    "matrix = [[1,0,0,0],[0,1,0,1],[1,0,1,1],[0,0,0,1]]\n",
    "n,m = 4,4\n",
    "\n",
    "maximumOne = 0\n",
    "biggestRow = -1\n",
    "\n",
    "for i in range (n):\n",
    "    count = 0\n",
    "    for j in range(m):\n",
    "        if matrix[i][j] == 1:\n",
    "            count+=1\n",
    "    if count > maximumOne:\n",
    "        maximumOne = count\n",
    "        biggestRow = i\n",
    "\n",
    "print(\"biggest row is \",biggestRow,\" with \",maximumOne,\" number of ones.\")"
   ]
  },
  {
   "cell_type": "code",
   "execution_count": 12,
   "metadata": {},
   "outputs": [
    {
     "name": "stdout",
     "output_type": "stream",
     "text": [
      "3 2\n"
     ]
    }
   ],
   "source": [
    "Input = ([[1, 2], [3, 4], [5, 6]])\n",
    "\n",
    "row = len(Input)\n",
    "col = len(Input[0])\n",
    "\n",
    "print(row, col)"
   ]
  },
  {
   "cell_type": "markdown",
   "metadata": {},
   "source": [
    "ROW WISE TRAVERSAL"
   ]
  },
  {
   "cell_type": "markdown",
   "metadata": {},
   "source": [
    "Problem statement\n",
    "Given a matrix, ‘A’ of size ‘N’ * ‘M’, you must traverse the matrix row-wise.\n",
    "\n",
    "You must return an integer array of size ‘N’ * ‘M’ denoting the row-wise traversal of the matrix.\n",
    "\n",
    "Constraints :\n",
    "1 <= T <= 10\n",
    "1 <= N * M <= 10^5\n",
    "1 <= A[ i ][ j ] <= 10^9\n",
    "Time Limit: 1 sec\n",
    "\n",
    "\n",
    "For example:\n",
    "\n",
    "Input :\n",
    "A = [ [1, 2, 3], [4, 5, 6] ]\n",
    "\n",
    "Output :\n",
    "1 2 3 4 5 6\n",
    "\n",
    "Explanation: \n",
    "\n",
    "For the given matrix, the first row is [1, 2, 3], and the second is [4, 5, 6].\n",
    "For row-wise traversal, you must traverse the first row and then the second.\n",
    "Constraints :\n",
    "1 <= T <= 10\n",
    "1 <= N * M <= 10^5\n",
    "1 <= A[ i ][ j ] <= 10^9\n",
    "Time Limit: 1 sec\n",
    "\n",
    "\n",
    "For example:\n",
    "\n",
    "Input :\n",
    "A = [ [1, 2, 3], [4, 5, 6] ]\n",
    "\n",
    "Output :\n",
    "1 2 3 4 5 6\n",
    "\n",
    "Explanation: \n",
    "\n",
    "For the given matrix, the first row is [1, 2, 3], and the second is [4, 5, 6].\n",
    "For row-wise traversal, you must traverse the first row and then the second.\n",
    "Input Format:\n",
    "First-line contains 'T,' denoting the number of Test cases.\n",
    "For each Test case:\n",
    "The first line contains two integers, ‘N' and ‘M’.\n",
    "The following ‘N’ lines have ‘M’ integers each, denoting the matrix ‘A’.\n",
    "Output Format:-\n",
    "You must return the array with elements in order of row-wise traversal.\n",
    "Note:-\n",
    "You don’t need to print anything. Just implement the given function.\n",
    "Sample Input 1 :\n",
    "2\n",
    "2 2 \n",
    "4 3\n",
    "2 1\n",
    "1 5\n",
    "1 2 3 4 5\n",
    "Sample Output 1 :\n",
    "4 3 2 1\n",
    "1 2 3 4 5 \n",
    "Explanation Of Sample Input 1 :\n",
    "For test case one:\n",
    "Input :\n",
    "A = [ [4, 3], [2, 1] ]\n",
    "Output :\n",
    "4 3 2 1\n",
    "Explanation: For the given matrix, the first row is [4, 3], and the second is [2, 1].\n",
    "For row-wise traversal, you must traverse the first row and then the second.\n",
    "\n",
    "For test case two:\n",
    "Input :\n",
    "A = [ [1, 2, 3, 4, 5] ]\n",
    "Output :\n",
    "1 2 3 4 5\n",
    "Explanation: For the given matrix, the first row is [1, 2, 3, 4, 5].\n",
    "For row-wise traversal, you need to traverse the first row.\n",
    "Sample Input 2 :\n",
    "2\n",
    "1 1 \n",
    "4\n",
    "5 1\n",
    "1 \n",
    "2 \n",
    "3 \n",
    "4 \n",
    "5\n",
    "Sample Output 2 :\n",
    "4\n",
    "1 2 3 4 5"
   ]
  },
  {
   "cell_type": "code",
   "execution_count": null,
   "metadata": {},
   "outputs": [],
   "source": [
    "import os\n",
    "import sys\n",
    "from sys import stdin\n",
    "from copy import deepcopy\n",
    "\n",
    "input = lambda: sys.stdin.readline().rstrip(\"\\r\\n\").strip()\n",
    "\n",
    "sys.setrecursionlimit(10**7)\n",
    "\n",
    "import numpy as np\n",
    "\n",
    "def printRowWise(a : List[List[int]]) -> List[int]:\n",
    "    # Write your code here.\n",
    "    row = len(a)\n",
    "    col = len(a[0])\n",
    "\n",
    "    result = []\n",
    "\n",
    "    for i in range (row):\n",
    "        for j in range (col):\n",
    "            result.append(a[i][j])\n",
    "    return(result)\n",
    "    pass\n",
    "\n",
    "class Runner:\n",
    "    def __init__(self):\n",
    "        self.t = 0\n",
    "        self.A = []\n",
    "\n",
    "    def takeInput(self):\n",
    "        self.t = int(input())\n",
    "\n",
    "        for ti in range(self.t):\n",
    "\n",
    "            n, m = map(int, input().split())\n",
    "\n",
    "            a = []\n",
    "\n",
    "            for r in range(n):\n",
    "                a.append(list(map(int, input().split())))\n",
    "\n",
    "            self.A.append(a)\n",
    "\n",
    "\n",
    "    def execute(self):\n",
    "        Acopy = deepcopy(self.A)\n",
    "\n",
    "        for ti in range(self.t):\n",
    "\n",
    "            ans = printRowWise(Acopy[ti])\n",
    "\n",
    "    def executeAndPrintOutput(self):\n",
    "        for ti in range(self.t):\n",
    "\n",
    "            ans = printRowWise(self.A[ti])\n",
    "\n",
    "            print(*ans)\n",
    "\n",
    "runner = Runner()\n",
    "runner.takeInput()\n",
    "runner.executeAndPrintOutput()"
   ]
  },
  {
   "cell_type": "markdown",
   "metadata": {},
   "source": [
    "Only Method -> for linear traversal in 2D List"
   ]
  },
  {
   "cell_type": "code",
   "execution_count": 17,
   "metadata": {},
   "outputs": [
    {
     "name": "stdout",
     "output_type": "stream",
     "text": [
      "4 3 2 1\n"
     ]
    }
   ],
   "source": [
    "def printRowWise(a):\n",
    "    # Write your code here.\n",
    "    row = len(a)\n",
    "    col = len(a[0])\n",
    "\n",
    "    result = []\n",
    "\n",
    "    for i in range (row):\n",
    "        for j in range (col):\n",
    "            result.append(a[i][j])\n",
    "    return(result)\n",
    "\n",
    "ans = printRowWise(a = [[4,3],[2,1]])\n",
    "\n",
    "print(*ans)"
   ]
  },
  {
   "cell_type": "code",
   "execution_count": 19,
   "metadata": {},
   "outputs": [
    {
     "name": "stdout",
     "output_type": "stream",
     "text": [
      "True\n"
     ]
    }
   ],
   "source": [
    "if 1 == 0o1:\n",
    "    print(\"True\")"
   ]
  },
  {
   "cell_type": "markdown",
   "metadata": {},
   "source": [
    "SET MATRIX ZEROS"
   ]
  },
  {
   "cell_type": "markdown",
   "metadata": {},
   "source": [
    "Problem statement\n",
    "Given an ‘N’ x ‘M’ integer matrix, if an element is 0, set its entire row and column to 0's, and return the matrix. In particular, your task is to modify it in such a way that if a cell has a value 0 (matrix[i][j] == 0), then all the cells of the ith row and jth column should be changed to 0.\n",
    "\n",
    "You must do it in place.\n",
    "\n",
    "For Example:\n",
    "\n",
    "If the given grid is this:\n",
    "[7, 19, 3]\n",
    "[4, 21, 0]\n",
    "\n",
    "Then the modified grid will be:\n",
    "[7, 19, 0]\n",
    "[0, 0,  0]\n",
    "Detailed explanation ( Input/output format, Notes, Images )\n",
    "Input Format:\n",
    "\n",
    "The first line of the input contains a single integer ‘T’ representing the no. of test cases.\n",
    "\n",
    "The first line of each test case contains two space-separated integers ‘N’ and ‘M’, denoting the no. of the rows and columns of the matrix.\n",
    "\n",
    "The next 'N' lines will contain ‘M’ space separated integers representing the elements of the matrix.\n",
    "Output Format:\n",
    "\n",
    "For each test case, print the modified grid.\n",
    "\n",
    "Print output of each test case in a separate line.\n",
    "Note:\n",
    "\n",
    "You are not required to print anything; it has already been taken care of. Just implement the function and return the answer.\n",
    "Constraints:\n",
    "\n",
    "1 ≤ T ≤ 1000\n",
    "1 ≤ m, n ≤ 1000\n",
    "Σ(m * n) ≤ 2000000\n",
    "-2^(31) ≤ matrix[i][j] ≤ 2^(31)-1, for all (1 ≤ i ≤ n and 1 ≤ j ≤ m).\n",
    "\n",
    "Time Limit: 1 sec\n",
    "Follow up:\n",
    "\n",
    "Can we do better than O(m * n) space?\n",
    "Using O(m + n) space is an improvement but we can still do better.\n",
    "We can do it using constant memory. Can you do it?\n",
    "Sample Input 1 :\n",
    "2\n",
    "2 3\n",
    "7 19 3\n",
    "4 21 0\n",
    "3 3\n",
    "1 2 3\n",
    "4 0 6\n",
    "7 8 9\n",
    "Sample Output 1 :\n",
    "7 19 0\n",
    "0 0 0\n",
    "1 0 3\n",
    "0 0 0\n",
    "7 0 9\n",
    "Explanation For Sample Input 1 :\n",
    "For First Case - Similar to the example explained above. \n",
    "\n",
    "For Second Case - \n",
    "Only the cell (2,2) has zero. So all the elements of the second row and second column are changed to zeros.\n",
    "Sample Input 2 :\n",
    "2\n",
    "4 2\n",
    "1 0\n",
    "2 7\n",
    "3 0\n",
    "4 8\n",
    "3 3\n",
    "0 2 3\n",
    "1 0 3\n",
    "1 2 0\n",
    "Sample Output 2 :\n",
    "0 0\n",
    "2 0\n",
    "0 0\n",
    "4 0\n",
    "0 0 0\n",
    "0 0 0\n",
    "0 0 0"
   ]
  },
  {
   "cell_type": "code",
   "execution_count": null,
   "metadata": {},
   "outputs": [],
   "source": [
    "def setZeros(matrix: List[List[int]]) -> None:\n",
    "\t# Write your code here.\n",
    "    row,col = len(matrix),len(matrix[0])\n",
    "    a = [[1 for _ in range(col)] for _ in range(row)]\n",
    "\n",
    "    for i in range(len(matrix)):\n",
    "        for j in range(len(matrix[0])):\n",
    "            if matrix[i][j] != 0 and a[i][j] !=0:\n",
    "                a[i][j] = matrix[i][j]\n",
    "            elif matrix[i][j] != 0 and a[i][j] == 0:\n",
    "                a[i][j] = 0\n",
    "            elif matrix[i][j] == 0:\n",
    "                for k in range(len(matrix)):\n",
    "                    a[k][j] = 0\n",
    "                for k in range(len(matrix[0])):\n",
    "                    a[i][k] = 0\n",
    "\n",
    "    for i in range(row):\n",
    "        for j in range(col):\n",
    "            matrix[i][j] = a[i][j]\n",
    "\n",
    "    pass"
   ]
  },
  {
   "cell_type": "markdown",
   "metadata": {},
   "source": [
    "ROTATE MATRIX BY 90 DEGREE"
   ]
  },
  {
   "cell_type": "markdown",
   "metadata": {},
   "source": [
    "Problem statement\n",
    "You are given a square matrix of non-negative integers 'MATRIX'. Your task is to rotate that array by 90 degrees in an anti-clockwise direction using constant extra space.\n",
    "\n",
    "For example:\n",
    "\n",
    "For given 2D array :\n",
    "\n",
    "    [    [ 1,  2,  3 ],\n",
    "         [ 4,  5,  6 ],\n",
    "         [ 7,  8,  9 ]  ]\n",
    "\n",
    "After 90 degree rotation in anti clockwise direction, it will become:\n",
    "\n",
    "    [   [ 3,  6,  9 ],\n",
    "        [ 2,  5,  8 ],\n",
    "        [ 1,  4,  7 ]   ]\n",
    "Detailed explanation ( Input/output format, Notes, Images )\n",
    "Input Format :\n",
    "The first line of input contains an integer 'T' representing the number of the test case. Then the test case follows.\n",
    "\n",
    "The first line of each test case contains an integer 'N' representing the size of the square matrix 'ARR'.\n",
    "\n",
    "Each of the next 'N' lines contains 'N' space-separated integers representing the elements of the matrix 'ARR'.\n",
    "Output format :\n",
    "\n",
    "For each test case, print N lines where N is the size of the matrix, containing N space-separated integer denoting the elements of the matrix after rotation.\n",
    "\n",
    "The output of each test case will be printed in a separate line.\n",
    "Note:\n",
    "You do not need to print anything; it has already been taken care of. Just implement the given function.\n",
    "Constraints:\n",
    "1 ≤ T ≤ 50\n",
    "1 ≤ N ≤ 100\n",
    "1 ≤ MATRIX[i][j] ≤ 10 ^ 5\n",
    "\n",
    "Time Limit: 1 sec.\n",
    "Sample Input 1:\n",
    "2\n",
    "3\n",
    "1  2  3\n",
    "4  5  6\n",
    "7  8  9\n",
    "4\n",
    "1  2  3  4 \n",
    "5  6  7  8 \n",
    "9 10 11 12 \n",
    "13 14 15 16\n",
    "Sample Output 1:\n",
    "3  6  9 \n",
    "2  5  8 \n",
    "1  4  7\n",
    "4  8 12 16 \n",
    "3  7 11 15 \n",
    "2  6 10 14 \n",
    "1  5  9 13\n",
    "Explanation of Input 1:\n",
    "For, first test case, the given matrix has been rotated by 90 degrees in an anticlockwise direction as the first row is now the first column inverted and so on for second and third rows.\n",
    "\n",
    "For, second test case, the given matrix has been rotated by 90 degrees in an anticlockwise direction as the first row is now first column inverted and so on for second, third and fourth rows.\n",
    "Sample Input 2:\n",
    "2\n",
    "3\n",
    "7  4  1 \n",
    "8  5  2 \n",
    "9  6  3\n",
    "4\n",
    "13  9  5  1 \n",
    "14  10  6  2 \n",
    "15 11 7 3 \n",
    "16 12 8 4\n",
    "Sample Output 2:\n",
    "1  2  3\n",
    "4  5  6\n",
    "7  8  9\n",
    "1  2  3  4 \n",
    "5  6  7  8 \n",
    "9 10 11 12 \n",
    "13 14 15 16\n",
    "from os import *\n",
    "from sys import *\n",
    "from collections import *\n",
    "from math import *\n",
    "\n",
    "def rotateMatrix(matrix):\n",
    "    # Write your code here.\n",
    "    pass\n",
    "\n"
   ]
  },
  {
   "cell_type": "code",
   "execution_count": null,
   "metadata": {},
   "outputs": [],
   "source": [
    "from os import *\n",
    "from sys import *\n",
    "from collections import *\n",
    "from math import *\n",
    "\n",
    "def rotateMatrix(matrix):\n",
    "    # Write your code here.\n",
    "    a = [[0 for _ in range(len(matrix[0]))] for _ in range(len(matrix))]\n",
    "\n",
    "    for i in range(len(matrix)):\n",
    "        for j in range(len(matrix[0])):\n",
    "            a[i][j] = matrix[j][len(matrix)-1-i]\n",
    "\n",
    "    return(a)\n",
    "    pass\n",
    "\n"
   ]
  }
 ],
 "metadata": {
  "kernelspec": {
   "display_name": "Python 3",
   "language": "python",
   "name": "python3"
  },
  "language_info": {
   "codemirror_mode": {
    "name": "ipython",
    "version": 3
   },
   "file_extension": ".py",
   "mimetype": "text/x-python",
   "name": "python",
   "nbconvert_exporter": "python",
   "pygments_lexer": "ipython3",
   "version": "3.9.6"
  }
 },
 "nbformat": 4,
 "nbformat_minor": 2
}
